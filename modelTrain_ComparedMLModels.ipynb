{
 "cells": [
  {
   "cell_type": "markdown",
   "source": [
    "## This.ipynb file provides examples for the training and testing of different different machine learning models in the Intra-Subject scenario"
   ],
   "metadata": {
    "collapsed": false
   }
  },
  {
   "cell_type": "code",
   "execution_count": 1,
   "metadata": {
    "pycharm": {
     "name": "#%%\n"
    },
    "ExecuteTime": {
     "end_time": "2023-11-16T15:45:34.495180600Z",
     "start_time": "2023-11-16T15:45:34.490111500Z"
    }
   },
   "outputs": [],
   "source": [
    "import warnings\n",
    "warnings.filterwarnings(\"ignore\")\n",
    "# import os\n",
    "# import sys\n",
    "# path = os.path.join(os.getcwd())\n",
    "# sys.path.append(path) \n",
    "from IPython.display import clear_output as clear\n",
    "\"\"\"parameters settings\"\"\"\n",
    "savePredictResult = True\n",
    "paramOptimization = True\n",
    "saveModel = True"
   ]
  },
  {
   "cell_type": "code",
   "execution_count": null,
   "outputs": [],
   "source": [
    "subType = 'targetSubjects'\n",
    "targetSubjects = [['1N', '2N', '3N', '4N', '5N', '6N', '7N', '8N', '9N', '10N', '11N'],\n",
    "                  ['1A', '2A', '3A', '4A', '5A', '6A', '7A', '8A', '9A', '10A', '11A']]\n",
    "modelTypes = ['KNNClassifier', 'LDAClassifier', 'SVMClassifier', 'RFClassifier', \n",
    "              'SVMRegressor', 'RFRegressor', 'MLPRegressor', 'GPRegressor']\n",
    "for modelType in modelTypes:\n",
    "    for j in range(len(targetSubjects)):\n",
    "        for i in range(len(targetSubjects[0])):\n",
    "            clear()\n",
    "            targetSubject=targetSubjects[j][i]\n",
    "            print('Intra-Subject model training and testing of: model-%s, subject-%s' % (modelType, targetSubject))\n",
    "            if modelType in ['KNNClassifier', 'LDAClassifier', 'SVMClassifier', 'RFClassifier']:\n",
    "                from train.trainTestMLClassifiers import ModelTrainTest\n",
    "            else:\n",
    "                from train.trainTestMLPredictors import ModelTrainTest\n",
    "            train_utils = ModelTrainTest(model_type=modelType)\n",
    "            train_utils.train(target_subject=targetSubject, save_predict_result=savePredictResult, \n",
    "                              param_optimization=paramOptimization, save_model=saveModel)"
   ],
   "metadata": {
    "collapsed": false
   }
  },
  {
   "cell_type": "code",
   "execution_count": null,
   "outputs": [],
   "source": [],
   "metadata": {
    "collapsed": false
   }
  }
 ],
 "metadata": {
  "kernelspec": {
   "display_name": "tf-gpu-2.6",
   "language": "python",
   "name": "tf-gpu-2.6"
  },
  "language_info": {
   "codemirror_mode": {
    "name": "ipython",
    "version": 3
   },
   "file_extension": ".py",
   "mimetype": "text/x-python",
   "name": "python",
   "nbconvert_exporter": "python",
   "pygments_lexer": "ipython3",
   "version": "3.9.12"
  }
 },
 "nbformat": 4,
 "nbformat_minor": 1
}
