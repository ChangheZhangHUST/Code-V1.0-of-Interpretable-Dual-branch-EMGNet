{
 "cells": [
  {
   "cell_type": "markdown",
   "source": [
    "## If you want to use the keras's plot_model capability, you need to install the graphviz and add it to the system environment variable"
   ],
   "metadata": {
    "collapsed": false
   },
   "id": "3e1d5c532aace0e3"
  },
  {
   "cell_type": "code",
   "execution_count": 2,
   "outputs": [],
   "source": [
    "#os.environ[\"PATH\"] += os.pathsep + 'C:/Program Files (x86)/Graphviz2.38/bin'\n",
    "#os.environ.get('PATH', '')"
   ],
   "metadata": {
    "collapsed": false,
    "ExecuteTime": {
     "end_time": "2023-11-10T08:59:46.350056300Z",
     "start_time": "2023-11-10T08:59:46.346032400Z"
    }
   },
   "id": "babdd128807c369b"
  },
  {
   "cell_type": "markdown",
   "source": [
    "## Run the following code box to check if the required dependencies are successfully installed"
   ],
   "metadata": {
    "collapsed": false
   },
   "id": "9414429df81e8903"
  },
  {
   "cell_type": "code",
   "execution_count": 6,
   "id": "initial_id",
   "metadata": {
    "collapsed": true,
    "ExecuteTime": {
     "end_time": "2023-11-10T11:13:40.203522300Z",
     "start_time": "2023-11-10T11:13:39.248339600Z"
    }
   },
   "outputs": [
    {
     "name": "stdout",
     "output_type": "stream",
     "text": [
      "tf.version: 2.10.0 keras.version: 2.10.0\n",
      "is_gpu_available:  [PhysicalDevice(name='/physical_device:GPU:0', device_type='GPU')]\n",
      "gpu_device_name:  /device:GPU:0\n",
      "name: \"/device:GPU:0\"\n",
      "device_type: \"GPU\"\n",
      "memory_limit: 3660578816\n",
      "locality {\n",
      "  bus_id: 1\n",
      "  links {\n",
      "  }\n",
      "}\n",
      "incarnation: 10770830887953210161\n",
      "physical_device_desc: \"device: 0, name: NVIDIA GeForce RTX 3060 Laptop GPU, pci bus id: 0000:01:00.0, compute capability: 8.6\"\n",
      "xla_global_id: 416903419\n"
     ]
    }
   ],
   "source": [
    "import os\n",
    "import numpy as np\n",
    "import pandas as pd\n",
    "import matplotlib.pyplot as plt\n",
    "import keras\n",
    "import tensorflow as tf\n",
    "from keras_flops import get_flops\n",
    "from keras.utils import to_categorical\n",
    "from tensorflow.python.client import device_lib\n",
    "%matplotlib inline\n",
    "plt.style.use('Solarize_Light2')\n",
    "print('tf.version:',tf.__version__,'keras.version:',keras.__version__)\n",
    "print('is_gpu_available: ', tf.config.list_physical_devices('GPU'))\n",
    "print('gpu_device_name: ', tf.test.gpu_device_name())\n",
    "local_device_protos = device_lib.list_local_devices()\n",
    "[print(x) for x in local_device_protos if x.device_type == 'GPU']\n",
    "# Specify Gpu-0 for model training\n",
    "os.environ[\"CUDA_VISIBLE_DEVICES\"] = \"0\""
   ]
  },
  {
   "cell_type": "code",
   "execution_count": null,
   "outputs": [],
   "source": [],
   "metadata": {
    "collapsed": false
   },
   "id": "a5d0a3c4fcf034c9"
  }
 ],
 "metadata": {
  "kernelspec": {
   "name": "tf-gpu-2.6",
   "language": "python",
   "display_name": "tf-gpu-2.6"
  },
  "language_info": {
   "codemirror_mode": {
    "name": "ipython",
    "version": 2
   },
   "file_extension": ".py",
   "mimetype": "text/x-python",
   "name": "python",
   "nbconvert_exporter": "python",
   "pygments_lexer": "ipython2",
   "version": "2.7.6"
  }
 },
 "nbformat": 4,
 "nbformat_minor": 5
}
